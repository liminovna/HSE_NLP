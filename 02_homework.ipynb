{
  "cells": [
    {
      "cell_type": "markdown",
      "metadata": {
        "id": "view-in-github",
        "colab_type": "text"
      },
      "source": [
        "<a href=\"https://colab.research.google.com/github/liminovna/HSE_NLP/blob/main/02_homework.ipynb\" target=\"_parent\"><img src=\"https://colab.research.google.com/assets/colab-badge.svg\" alt=\"Open In Colab\"/></a>"
      ]
    },
    {
      "cell_type": "markdown",
      "id": "43fc8290",
      "metadata": {
        "id": "43fc8290"
      },
      "source": [
        "## Задание 1."
      ]
    },
    {
      "cell_type": "markdown",
      "id": "b06a5ace",
      "metadata": {
        "id": "b06a5ace"
      },
      "source": [
        "Посчитайте частоты для 5-грамм в корпусе lenta.txt. двумя способами:  \n",
        "1) lenta.txt -> sent_tokenize (russian) -> word_tokenize -> ngrammer  \n",
        "2) lenta.txt -> word_tokene(preserve_line=True) - ngrammer  \n",
        "    \n",
        "Проанализируйте топ-20 самых частотных нграмм и проверьте есть ли различия?"
      ]
    },
    {
      "cell_type": "code",
      "source": [
        "!mkdir data\n",
        "!wget https://github.com/mannefedov/compling_nlp_hse_course/raw/master/data/lenta.txt.zip -P data\n",
        "!unzip -o data/lenta.txt.zip -d data/"
      ],
      "metadata": {
        "colab": {
          "base_uri": "https://localhost:8080/"
        },
        "id": "Umx9WFDeeHit",
        "outputId": "f7e8a0b1-9835-4669-d7a9-ea6bcc885a48"
      },
      "id": "Umx9WFDeeHit",
      "execution_count": 1,
      "outputs": [
        {
          "output_type": "stream",
          "name": "stdout",
          "text": [
            "--2024-09-21 19:53:30--  https://github.com/mannefedov/compling_nlp_hse_course/raw/master/data/lenta.txt.zip\n",
            "Resolving github.com (github.com)... 140.82.114.3\n",
            "Connecting to github.com (github.com)|140.82.114.3|:443... connected.\n",
            "HTTP request sent, awaiting response... 302 Found\n",
            "Location: https://raw.githubusercontent.com/mannefedov/compling_nlp_hse_course/master/data/lenta.txt.zip [following]\n",
            "--2024-09-21 19:53:30--  https://raw.githubusercontent.com/mannefedov/compling_nlp_hse_course/master/data/lenta.txt.zip\n",
            "Resolving raw.githubusercontent.com (raw.githubusercontent.com)... 185.199.108.133, 185.199.109.133, 185.199.110.133, ...\n",
            "Connecting to raw.githubusercontent.com (raw.githubusercontent.com)|185.199.108.133|:443... connected.\n",
            "HTTP request sent, awaiting response... 200 OK\n",
            "Length: 5723675 (5.5M) [application/zip]\n",
            "Saving to: ‘data/lenta.txt.zip’\n",
            "\n",
            "lenta.txt.zip       100%[===================>]   5.46M  --.-KB/s    in 0.07s   \n",
            "\n",
            "2024-09-21 19:53:30 (82.5 MB/s) - ‘data/lenta.txt.zip’ saved [5723675/5723675]\n",
            "\n",
            "Archive:  data/lenta.txt.zip\n",
            "  inflating: data/lenta.txt          \n",
            "  inflating: data/__MACOSX/._lenta.txt  \n"
          ]
        }
      ]
    },
    {
      "cell_type": "code",
      "execution_count": 2,
      "id": "957f5656",
      "metadata": {
        "colab": {
          "base_uri": "https://localhost:8080/",
          "height": 52
        },
        "id": "957f5656",
        "outputId": "1ccfe521-79a6-44b6-9e7f-2953524aa78d"
      },
      "outputs": [
        {
          "output_type": "execute_result",
          "data": {
            "text/plain": [
              "'Бои у Сопоцкина и Друскеник закончились отступлением германцев. Неприятель, приблизившись с севера к Осовцу начал артиллерийскую борьбу с крепостью. В артиллерийском бою принимают участие тяжелые кали'"
            ],
            "application/vnd.google.colaboratory.intrinsic+json": {
              "type": "string"
            }
          },
          "metadata": {},
          "execution_count": 2
        }
      ],
      "source": [
        "# добавить разбиение не предложения чтобы не считать биграмы по границам предложений\n",
        "corpus = open('data/lenta.txt').read()\n",
        "corpus[:200]"
      ]
    },
    {
      "cell_type": "code",
      "source": [
        "# обновляем nltk, чтобы не выкидывал ошибку Lookup Error\n",
        "!pip install nltk -U"
      ],
      "metadata": {
        "colab": {
          "base_uri": "https://localhost:8080/"
        },
        "id": "tJOx3J9qf0TM",
        "outputId": "fa014860-4819-4046-952a-4d71eb5fa56b"
      },
      "id": "tJOx3J9qf0TM",
      "execution_count": 10,
      "outputs": [
        {
          "output_type": "stream",
          "name": "stdout",
          "text": [
            "Requirement already satisfied: nltk in /usr/local/lib/python3.10/dist-packages (3.9.1)\n",
            "Requirement already satisfied: click in /usr/local/lib/python3.10/dist-packages (from nltk) (8.1.7)\n",
            "Requirement already satisfied: joblib in /usr/local/lib/python3.10/dist-packages (from nltk) (1.4.2)\n",
            "Requirement already satisfied: regex>=2021.8.3 in /usr/local/lib/python3.10/dist-packages (from nltk) (2024.9.11)\n",
            "Requirement already satisfied: tqdm in /usr/local/lib/python3.10/dist-packages (from nltk) (4.66.5)\n"
          ]
        }
      ]
    },
    {
      "cell_type": "code",
      "source": [
        "import nltk\n",
        "nltk.download('punkt_tab')\n",
        "from nltk import sent_tokenize\n",
        "from nltk.tokenize import word_tokenize\n",
        "\n",
        "from collections import Counter\n",
        "\n",
        "import re"
      ],
      "metadata": {
        "colab": {
          "base_uri": "https://localhost:8080/"
        },
        "id": "5IDluOX3dBir",
        "outputId": "0d174ada-6806-4392-9136-f8e0d0776b8c"
      },
      "id": "5IDluOX3dBir",
      "execution_count": 23,
      "outputs": [
        {
          "output_type": "stream",
          "name": "stderr",
          "text": [
            "[nltk_data] Downloading package punkt_tab to /root/nltk_data...\n",
            "[nltk_data]   Package punkt_tab is already up-to-date!\n"
          ]
        }
      ]
    },
    {
      "cell_type": "code",
      "source": [
        "# загружаем список стоп-слов, чтобы питон не ругался на Resource 'corpora/stopwords' not found\n",
        "!python -m nltk.downloader stopwords"
      ],
      "metadata": {
        "colab": {
          "base_uri": "https://localhost:8080/"
        },
        "id": "2pJPi4iPKVGN",
        "outputId": "4da6cecb-6090-464c-f6f1-e800aa0cec4c"
      },
      "id": "2pJPi4iPKVGN",
      "execution_count": 12,
      "outputs": [
        {
          "output_type": "stream",
          "name": "stdout",
          "text": [
            "/usr/lib/python3.10/runpy.py:126: RuntimeWarning: 'nltk.downloader' found in sys.modules after import of package 'nltk', but prior to execution of 'nltk.downloader'; this may result in unpredictable behaviour\n",
            "  warn(RuntimeWarning(msg))\n",
            "[nltk_data] Downloading package stopwords to /root/nltk_data...\n",
            "[nltk_data]   Unzipping corpora/stopwords.zip.\n"
          ]
        }
      ]
    },
    {
      "cell_type": "code",
      "source": [
        "from nltk.corpus import stopwords\n",
        "\n",
        "# преобразуем в set чтобы быстрее проверять наличие в этом списке стоп слов\n",
        "russian_stopwords = set(stopwords.words('russian'))"
      ],
      "metadata": {
        "id": "OJkqpl80JvEC"
      },
      "id": "OJkqpl80JvEC",
      "execution_count": 13,
      "outputs": []
    },
    {
      "cell_type": "code",
      "source": [
        "def ngrammer(tokens, n=2):\n",
        "    ngrams = []\n",
        "    for i in range(len(tokens)-n+1):\n",
        "        ngrams.append(' '.join(tokens[i:i+n]))\n",
        "    return ngrams"
      ],
      "metadata": {
        "id": "qPZvG0KuLpf3"
      },
      "id": "qPZvG0KuLpf3",
      "execution_count": 22,
      "outputs": []
    },
    {
      "cell_type": "markdown",
      "source": [
        "### 1 способ: lenta.txt -> sent_tokenize (russian) -> word_tokenize -> ngrammer"
      ],
      "metadata": {
        "id": "KbnsuOBWibZ3"
      },
      "id": "KbnsuOBWibZ3"
    },
    {
      "cell_type": "code",
      "source": [
        "sentences_1 = sent_tokenize(corpus, language='russian')\n",
        "tokenized_sentences_1 = [word_tokenize(sentence) for sentence in sentences_1]\n",
        "\n",
        "tokenized_sentences_1[:2]"
      ],
      "metadata": {
        "colab": {
          "base_uri": "https://localhost:8080/"
        },
        "id": "aIVGdLIgfQkn",
        "outputId": "735a6b22-10ec-437a-9925-8601e63278ac"
      },
      "id": "aIVGdLIgfQkn",
      "execution_count": 40,
      "outputs": [
        {
          "output_type": "execute_result",
          "data": {
            "text/plain": [
              "[['Бои',\n",
              "  'у',\n",
              "  'Сопоцкина',\n",
              "  'и',\n",
              "  'Друскеник',\n",
              "  'закончились',\n",
              "  'отступлением',\n",
              "  'германцев',\n",
              "  '.'],\n",
              " ['Неприятель',\n",
              "  ',',\n",
              "  'приблизившись',\n",
              "  'с',\n",
              "  'севера',\n",
              "  'к',\n",
              "  'Осовцу',\n",
              "  'начал',\n",
              "  'артиллерийскую',\n",
              "  'борьбу',\n",
              "  'с',\n",
              "  'крепостью',\n",
              "  '.']]"
            ]
          },
          "metadata": {},
          "execution_count": 40
        }
      ]
    },
    {
      "cell_type": "code",
      "source": [
        "tokenized_sentences_1 = [\n",
        "    [token.lower() for token in sentence if not re.match('\\W+', token)] for sentence in tokenized_sentences_1\n",
        "]\n",
        "tokenized_sentences_1[:2]"
      ],
      "metadata": {
        "colab": {
          "base_uri": "https://localhost:8080/"
        },
        "id": "xuZpcJ98gec2",
        "outputId": "81085dac-9bb0-43eb-b27a-71880a0df75b"
      },
      "id": "xuZpcJ98gec2",
      "execution_count": 41,
      "outputs": [
        {
          "output_type": "execute_result",
          "data": {
            "text/plain": [
              "[['бои',\n",
              "  'у',\n",
              "  'сопоцкина',\n",
              "  'и',\n",
              "  'друскеник',\n",
              "  'закончились',\n",
              "  'отступлением',\n",
              "  'германцев'],\n",
              " ['неприятель',\n",
              "  'приблизившись',\n",
              "  'с',\n",
              "  'севера',\n",
              "  'к',\n",
              "  'осовцу',\n",
              "  'начал',\n",
              "  'артиллерийскую',\n",
              "  'борьбу',\n",
              "  'с',\n",
              "  'крепостью']]"
            ]
          },
          "metadata": {},
          "execution_count": 41
        }
      ]
    },
    {
      "cell_type": "code",
      "source": [
        "pentagram_counts_1 = Counter()\n",
        "for sentence in tokenized_sentences_1:\n",
        "    pentagram_counts_1.update(ngrammer(tokens=[token for token in sentence if token not in russian_stopwords],n=5))\n",
        "\n",
        "pentagram_counts_1.most_common(20)"
      ],
      "metadata": {
        "colab": {
          "base_uri": "https://localhost:8080/"
        },
        "id": "lQLhQsddTxuH",
        "outputId": "c495adb3-855c-4baf-de2f-c01eb0b901f2"
      },
      "id": "lQLhQsddTxuH",
      "execution_count": 43,
      "outputs": [
        {
          "output_type": "execute_result",
          "data": {
            "text/plain": [
              "[('объединенной группировки войск северном кавказе', 83),\n",
              " ('сообщает риа новости ссылкой пресс-службу', 57),\n",
              " ('обязанности президента россии владимир путин', 47),\n",
              " ('группировки федеральных сил северном кавказе', 37),\n",
              " ('помощник президента россии сергей ястржембский', 35),\n",
              " ('делам печати телерадиовещания средств массовых', 31),\n",
              " ('объединенной группировки федеральных сил северном', 31),\n",
              " ('печати телерадиовещания средств массовых коммуникаций', 30),\n",
              " ('штабе объединенной группировки федеральных сил', 25),\n",
              " ('министр иностранных дел россии игорь', 24),\n",
              " ('первый заместитель начальника генерального штаба', 23),\n",
              " ('сообщает риа новости ссылкой источники', 23),\n",
              " ('объединенной группировкой войск северном кавказе', 23),\n",
              " ('иностранных дел россии игорь иванов', 23),\n",
              " ('прямом эфире радиостанции эхо москвы', 20),\n",
              " ('главного управления борьбе организованной преступностью', 20),\n",
              " ('начальника генерального штаба вооруженных сил', 20),\n",
              " ('заместитель начальника генштаба вооруженных сил', 20),\n",
              " ('сообщает федеральное агентство новостей ссылкой', 20),\n",
              " ('исполняющий обязанности президента россии владимир', 20)]"
            ]
          },
          "metadata": {},
          "execution_count": 43
        }
      ]
    },
    {
      "cell_type": "markdown",
      "source": [
        "### 2 способ: lenta.txt -> word_tokenize(preserve_line=True) -> ngrammer"
      ],
      "metadata": {
        "id": "BpIbS70Ii6aI"
      },
      "id": "BpIbS70Ii6aI"
    },
    {
      "cell_type": "code",
      "source": [
        "tokenized_text_2 = word_tokenize(corpus, language='russian', preserve_line=True)\n",
        "tokenized_text_2[:10]"
      ],
      "metadata": {
        "colab": {
          "base_uri": "https://localhost:8080/"
        },
        "id": "h390Iqv8i6Eq",
        "outputId": "764a12c3-e079-48f4-8fab-a5f89daaed5d"
      },
      "id": "h390Iqv8i6Eq",
      "execution_count": 29,
      "outputs": [
        {
          "output_type": "execute_result",
          "data": {
            "text/plain": [
              "['Бои',\n",
              " 'у',\n",
              " 'Сопоцкина',\n",
              " 'и',\n",
              " 'Друскеник',\n",
              " 'закончились',\n",
              " 'отступлением',\n",
              " 'германцев.',\n",
              " 'Неприятель',\n",
              " ',']"
            ]
          },
          "metadata": {},
          "execution_count": 29
        }
      ]
    },
    {
      "cell_type": "code",
      "source": [
        "tokenized_text_2 = [\n",
        "    token.lower() for token in tokenized_text_2 if not re.match('\\W+', token)\n",
        "]\n",
        "tokenized_text_2[:10]"
      ],
      "metadata": {
        "colab": {
          "base_uri": "https://localhost:8080/"
        },
        "id": "RfQbmTbiNsFc",
        "outputId": "9f845fbd-2f37-4a3e-bb61-796747c5b9dd"
      },
      "id": "RfQbmTbiNsFc",
      "execution_count": 30,
      "outputs": [
        {
          "output_type": "execute_result",
          "data": {
            "text/plain": [
              "['бои',\n",
              " 'у',\n",
              " 'сопоцкина',\n",
              " 'и',\n",
              " 'друскеник',\n",
              " 'закончились',\n",
              " 'отступлением',\n",
              " 'германцев.',\n",
              " 'неприятель',\n",
              " 'приблизившись']"
            ]
          },
          "metadata": {},
          "execution_count": 30
        }
      ]
    },
    {
      "cell_type": "code",
      "source": [
        "pentagram_counts_2 = Counter()\n",
        "pentagram_counts_2.update(ngrammer(tokens=list(filter(lambda t: t not in russian_stopwords, tokenized_text_2)), n=5))\n",
        "pentagram_counts_2.most_common(20)"
      ],
      "metadata": {
        "colab": {
          "base_uri": "https://localhost:8080/"
        },
        "id": "8mY8CE5iOdfN",
        "outputId": "c4bfa453-e251-4ba0-b775-ed1402b2a4e5"
      },
      "id": "8mY8CE5iOdfN",
      "execution_count": 44,
      "outputs": [
        {
          "output_type": "execute_result",
          "data": {
            "text/plain": [
              "[('сообщает риа новости ссылкой пресс-службу', 57),\n",
              " ('объединенной группировки войск северном кавказе', 56),\n",
              " ('обязанности президента россии владимир путин', 46),\n",
              " ('делам печати телерадиовещания средств массовых', 31),\n",
              " ('объединенной группировки федеральных сил северном', 31),\n",
              " ('печати телерадиовещания средств массовых коммуникаций', 29),\n",
              " ('объединенной группировки войск северном кавказе.', 27),\n",
              " ('министр иностранных дел россии игорь', 24),\n",
              " ('штабе объединенной группировки федеральных сил', 24),\n",
              " ('первый заместитель начальника генерального штаба', 23),\n",
              " ('сообщает риа новости ссылкой источники', 23),\n",
              " ('объединенной группировкой войск северном кавказе', 23),\n",
              " ('помощник президента россии сергей ястржембский', 21),\n",
              " ('прямом эфире радиостанции эхо москвы', 20),\n",
              " ('начальника генерального штаба вооруженных сил', 20),\n",
              " ('группировки федеральных сил северном кавказе', 20),\n",
              " ('заместитель начальника генштаба вооруженных сил', 20),\n",
              " ('сообщает федеральное агентство новостей ссылкой', 20),\n",
              " ('исполняющий обязанности президента россии владимир', 20),\n",
              " ('главного управления борьбе организованной преступностью', 19)]"
            ]
          },
          "metadata": {},
          "execution_count": 44
        }
      ]
    },
    {
      "cell_type": "markdown",
      "source": [
        "### Вывод\n",
        "\n",
        "Топ-20 пентаграмм, полученные обоими способами, отличаются предположительно потому, что в первом способе при делении корпуса сначала на предложения, а потом -- на токены, знаки пунктуации в конце предложения удалялись, и словоформа, стоящая в конце предложения была равна словоформе, стоящей, например, в середине. Во втором способе знаки препинания, наоборот, сохранялись на конце последнего токена в предложении, делая этот токен отличным о той же словоформы, которая стояла в середине предложения."
      ],
      "metadata": {
        "id": "JHa3KCd_a1ZP"
      },
      "id": "JHa3KCd_a1ZP"
    },
    {
      "cell_type": "markdown",
      "id": "b5781f34",
      "metadata": {
        "id": "b5781f34"
      },
      "source": [
        "## Задание 2."
      ]
    },
    {
      "cell_type": "markdown",
      "id": "4292716e",
      "metadata": {
        "id": "4292716e"
      },
      "source": [
        "Найдите какую-то инетересную (по вашему мнению) закономерность на https://books.google.com/ngrams/ для русского языка (с 1990 по 2022)\n",
        "\n",
        "Вставьте сюда скриншот"
      ]
    },
    {
      "cell_type": "code",
      "execution_count": null,
      "id": "0e3bf76d",
      "metadata": {
        "id": "0e3bf76d"
      },
      "outputs": [],
      "source": []
    },
    {
      "cell_type": "markdown",
      "id": "8a0a89ec",
      "metadata": {
        "id": "8a0a89ec"
      },
      "source": [
        "## Заданиe 3"
      ]
    },
    {
      "cell_type": "markdown",
      "id": "b40c35e9",
      "metadata": {
        "id": "b40c35e9"
      },
      "source": [
        "Когда мы разбирали PMI мы использовали такую функцию:"
      ]
    },
    {
      "cell_type": "code",
      "execution_count": null,
      "id": "221f1bc0",
      "metadata": {
        "id": "221f1bc0"
      },
      "outputs": [],
      "source": [
        "def scorer_simple(word_count_a, word_count_b, bigram_count, *args):\n",
        "    try:\n",
        "        score = bigram_count/((word_count_a+word_count_b))\n",
        "    except ZeroDivisionError:\n",
        "        return 0\n",
        "    return score"
      ]
    },
    {
      "cell_type": "markdown",
      "id": "53fd2def",
      "metadata": {
        "id": "53fd2def"
      },
      "source": [
        "Но если вы посмотрите на определение в википедии, то увидите, что формула немного другая ![](https://wikimedia.org/api/rest_v1/media/math/render/svg/094243d23c19d2d032f6bb26c4dc4f47d98d32f8)"
      ]
    },
    {
      "cell_type": "markdown",
      "id": "b1905862",
      "metadata": {
        "id": "b1905862"
      },
      "source": [
        "Перепишите функцию, чтобы она точно соответствовала этому определению. Расчитайте PMI для всех биграммов также как мы делали в семинаре с помощью функции score_bigrams используя изначальный scorer и обновленный. Посмотрите есть ли разница в топ-10 биграммов. Подумайте почему результаты совпадают/отличаются?\n",
        "\n",
        "*Подсказка: для вероятностей можно поделить на количество слов в корпусе"
      ]
    },
    {
      "cell_type": "code",
      "execution_count": null,
      "id": "1431f618",
      "metadata": {
        "id": "1431f618"
      },
      "outputs": [],
      "source": []
    },
    {
      "cell_type": "markdown",
      "id": "0a6e1c99",
      "metadata": {
        "id": "0a6e1c99"
      },
      "source": [
        "## Задание 4*\n",
        "\n",
        "Обновите функцию получившуюся в предыдущем задании так, чтобы вместо произведения/деления вероятностей использовались сложение и вычитание логирифмов."
      ]
    },
    {
      "cell_type": "code",
      "execution_count": null,
      "id": "3f55a362",
      "metadata": {
        "id": "3f55a362"
      },
      "outputs": [],
      "source": []
    },
    {
      "cell_type": "markdown",
      "id": "b22785f4",
      "metadata": {
        "id": "b22785f4"
      },
      "source": [
        "## Задание 5"
      ]
    },
    {
      "cell_type": "markdown",
      "id": "a1121e53",
      "metadata": {
        "id": "a1121e53"
      },
      "source": [
        "Исследуйте gensim.models.Phrases. Проверьте сколько дефолтных scoring функций есть в этом классе. Попробуйте все доступные по умолчанию scoring функции и попробуйте настраивать для них значение threshold и min_count. Попробуйте сделать так, чтобы собиралось как можно больше нграммов. Попробуйте строить последовательность gensim.models.Phrases, чтобы строить более длинные нграммы"
      ]
    },
    {
      "cell_type": "code",
      "execution_count": null,
      "id": "716fba84",
      "metadata": {
        "id": "716fba84"
      },
      "outputs": [],
      "source": []
    }
  ],
  "metadata": {
    "kernelspec": {
      "display_name": "Python 3 (ipykernel)",
      "language": "python",
      "name": "python3"
    },
    "language_info": {
      "codemirror_mode": {
        "name": "ipython",
        "version": 3
      },
      "file_extension": ".py",
      "mimetype": "text/x-python",
      "name": "python",
      "nbconvert_exporter": "python",
      "pygments_lexer": "ipython3",
      "version": "3.9.14"
    },
    "colab": {
      "provenance": [],
      "collapsed_sections": [
        "KbnsuOBWibZ3"
      ],
      "toc_visible": true,
      "include_colab_link": true
    }
  },
  "nbformat": 4,
  "nbformat_minor": 5
}